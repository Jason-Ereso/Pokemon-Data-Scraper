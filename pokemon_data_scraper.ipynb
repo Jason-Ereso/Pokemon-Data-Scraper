{
 "cells": [
  {
   "cell_type": "code",
   "execution_count": 1,
   "metadata": {},
   "outputs": [],
   "source": [
    "import requests\n",
    "import pandas as pd\n",
    "from bs4 import BeautifulSoup\n",
    "import sqlite3"
   ]
  },
  {
   "cell_type": "code",
   "execution_count": 3,
   "metadata": {},
   "outputs": [],
   "source": [
    "url = 'https://pokemondb.net/pokedex/all'\n",
    "\n",
    "# Send a GET request to the Pokemon webpage\n",
    "response = requests.get(url)"
   ]
  },
  {
   "cell_type": "code",
   "execution_count": 12,
   "metadata": {},
   "outputs": [
    {
     "name": "stdout",
     "output_type": "stream",
     "text": [
      "b'<!DOCTYPE html>\\n<html lang=\"en\">\\n<head>\\n<meta charset=\"utf-8\">\\n<title>Pok\\xc3\\xa9mon Pok\\xc3\\xa9dex: list of Pok\\xc3\\xa9mon with stats | Pok\\xc3\\xa9mon Database</title>\\n<link'\n"
     ]
    }
   ],
   "source": [
    "print(response.content[:150])"
   ]
  },
  {
   "cell_type": "code",
   "execution_count": 5,
   "metadata": {},
   "outputs": [],
   "source": [
    "# Parse the content of the webpage\n",
    "soup = BeautifulSoup(response.content, 'html.parser')\n",
    "\n",
    "# Find the table containing the Pokemon data\n",
    "table = soup.find('table', {'id': 'pokedex'})\n",
    "\n",
    "# Extract the table headers\n",
    "headers = [header.text for header in table.find_all('th')]\n",
    "\n",
    "# Extract the table rows\n",
    "rows = table.find_all('tr')[1:]  # Skip the header row"
   ]
  },
  {
   "cell_type": "code",
   "execution_count": 6,
   "metadata": {},
   "outputs": [],
   "source": [
    "# Extract the data from each row\n",
    "data = []\n",
    "for row in rows:\n",
    "    cells = row.find_all('td')\n",
    "    cells_text = [cell.text.strip() for cell in cells]\n",
    "    data.append(cells_text)\n",
    "\n",
    "\n",
    "df = pd.DataFrame(data, columns=headers)"
   ]
  },
  {
   "cell_type": "code",
   "execution_count": 7,
   "metadata": {},
   "outputs": [
    {
     "data": {
      "text/plain": [
       "<bound method NDFrame.head of          #                     Name           Type Total   HP Attack Defense  \\\n",
       "0     0001                Bulbasaur   Grass Poison   318   45     49      49   \n",
       "1     0002                  Ivysaur   Grass Poison   405   60     62      63   \n",
       "2     0003                 Venusaur   Grass Poison   525   80     82      83   \n",
       "3     0003   Venusaur Mega Venusaur   Grass Poison   625   80    100     123   \n",
       "4     0004               Charmander           Fire   309   39     52      43   \n",
       "...    ...                      ...            ...   ...  ...    ...     ...   \n",
       "1210  1023               Iron Crown  Steel Psychic   590   90     72     100   \n",
       "1211  1024    Terapagos Normal Form         Normal   450   90     65      85   \n",
       "1212  1024  Terapagos Terastal Form         Normal   600   95     95     110   \n",
       "1213  1024   Terapagos Stellar Form         Normal   700  160    105     110   \n",
       "1214  1025                Pecharunt   Poison Ghost   600   88     88     160   \n",
       "\n",
       "     Sp. Atk Sp. Def Speed  \n",
       "0         65      65    45  \n",
       "1         80      80    60  \n",
       "2        100     100    80  \n",
       "3        122     120    80  \n",
       "4         60      50    65  \n",
       "...      ...     ...   ...  \n",
       "1210     122     108    98  \n",
       "1211      65      85    60  \n",
       "1212     105     110    85  \n",
       "1213     130     110    85  \n",
       "1214      88      88    88  \n",
       "\n",
       "[1215 rows x 10 columns]>"
      ]
     },
     "execution_count": 7,
     "metadata": {},
     "output_type": "execute_result"
    }
   ],
   "source": [
    "df.head"
   ]
  },
  {
   "cell_type": "code",
   "execution_count": 8,
   "metadata": {},
   "outputs": [],
   "source": [
    "# Save the DataFrame to a CSV file\n",
    "csv_file_path = 'pokemon_data.csv'\n",
    "df.to_csv(csv_file_path, index=False)"
   ]
  },
  {
   "cell_type": "code",
   "execution_count": 9,
   "metadata": {},
   "outputs": [],
   "source": [
    "# Save the DataFrame to a database file (SQLite)\n",
    "# SQLite database file path\n",
    "db_file_path = 'pokemon_data.db'\n",
    "\n",
    "# Connect to the SQLite database\n",
    "conn = sqlite3.connect(db_file_path)\n",
    "\n",
    "# Save the DataFrame to a SQLite table\n",
    "df.to_sql('pokemon', conn, if_exists='replace', index=False)\n",
    "\n",
    "# Close the database connection\n",
    "conn.close()"
   ]
  }
 ],
 "metadata": {
  "kernelspec": {
   "display_name": "environmentjason",
   "language": "python",
   "name": "python3"
  },
  "language_info": {
   "codemirror_mode": {
    "name": "ipython",
    "version": 3
   },
   "file_extension": ".py",
   "mimetype": "text/x-python",
   "name": "python",
   "nbconvert_exporter": "python",
   "pygments_lexer": "ipython3",
   "version": "3.12.3"
  }
 },
 "nbformat": 4,
 "nbformat_minor": 2
}
